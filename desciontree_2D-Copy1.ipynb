{
 "cells": [
  {
   "cell_type": "code",
   "execution_count": 2,
   "metadata": {},
   "outputs": [],
   "source": [
    "%matplotlib inline\n",
    "\n",
    "import matplotlib.pyplot as plt\n",
    "\n",
    "import pandas as pd"
   ]
  },
  {
   "cell_type": "markdown",
   "metadata": {},
   "source": [
    "## 获取数据"
   ]
  },
  {
   "cell_type": "code",
   "execution_count": 14,
   "metadata": {},
   "outputs": [
    {
     "name": "stdout",
     "output_type": "stream",
     "text": [
      "ok\n"
     ]
    }
   ],
   "source": [
    "def seg_2_csv(test_rcg_seg, l_name, r_name,player_dict):\n",
    "    import re\n",
    "    cycle_exp = \"show (\\d+) \"\n",
    "    cycle_time = re.search(cycle_exp, test_rcg_seg)\n",
    "    time = cycle_time.group(1)\n",
    "    time\n",
    "   \n",
    "\n",
    "    ball_state_exp = \"b\\) (.*?)\\)\"\n",
    "    ball_state = re.search(ball_state_exp, test_rcg_seg)\n",
    "    ball_state = ball_state.group(1).split(\" \")\n",
    "\n",
    "    ball_x, ball_y, ball_vel_x, ball_vel_y = ball_state[0], ball_state[1], ball_state[2], ball_state[3]\n",
    "\n",
    "    \n",
    "\n",
    "    segle_player_exp = \"\\(\\(((l|r).*?)\\)\\)\"\n",
    "    all_side = re.findall(segle_player_exp, test_rcg_seg)\n",
    "    all_side[0]\n",
    "    \n",
    "\n",
    "\n",
    "    for (count, i) in enumerate(all_side):\n",
    "        side = i[1]\n",
    "        player_info_exp = \"(l|r)(.*?)\\(\"\n",
    "        player_info = re.search(player_info_exp, i[0]).group(0)\n",
    "        player_info = player_info.replace(\")\", \"\").split()\n",
    "\n",
    "        name_pre = None\n",
    "        if side == \"l\":\n",
    "            name_pre = l_name\n",
    "        else:\n",
    "            name_pre = r_name\n",
    "        \n",
    "        if player_info[0] is 'l':\n",
    "            player_info[0] = -1\n",
    "        else:player_info[0]=1\n",
    "\n",
    "        #init\n",
    "        if len(player_dict)<1:\n",
    "            player_dict[\"time\"] = [time]\n",
    "            player_dict[\"ball_x\"] = [ball_x]\n",
    "            player_dict[\"ball_y\"] = [ball_y]\n",
    "            player_dict[\"ball_vx\"] = [ball_vel_x]\n",
    "            player_dict[\"ball_vy\"] = [ball_vel_y]\n",
    "            player_dict[\"player_side\"] = [player_info[0]]\n",
    "            player_dict[\"team_name\"] = [name_pre]\n",
    "            player_dict[\"player_num\"] = [name_pre + \"_\" + player_info[1]]\n",
    "            #player_dict[\"player_type\"] = [player_info[2]]\n",
    "            #player_dict[\"player_state\"] = [player_info[3]]\n",
    "            player_dict[\"player_x\"] = [player_info[4]]\n",
    "            player_dict[\"player_y\"] = [player_info[5]]\n",
    "            player_dict[\"player_vx\"] = [player_info[6]]\n",
    "            player_dict[\"player_vy\"] = [player_info[7]]\n",
    "\n",
    "            \n",
    "            \n",
    "        else:\n",
    "            player_dict[\"time\"].append(time)\n",
    "            player_dict[\"ball_x\"].append(ball_x)\n",
    "            player_dict[\"ball_y\"].append(ball_y)\n",
    "            player_dict[\"ball_vx\"].append(ball_vel_x)\n",
    "            player_dict[\"ball_vy\"].append(ball_vel_y)\n",
    "            player_dict[\"player_side\"].append(player_info[0])\n",
    "            player_dict[\"team_name\"].append(name_pre)\n",
    "            player_dict[\"player_num\"].append(name_pre + \"_\" + player_info[1])\n",
    "            #player_dict[\"player_type\"].append(player_info[2])\n",
    "            #player_dict[\"player_state\"].append(player_info[3])\n",
    "            player_dict[\"player_x\"].append(player_info[4])\n",
    "            player_dict[\"player_y\"].append(player_info[5])\n",
    "            player_dict[\"player_vx\"].append(player_info[6])\n",
    "            player_dict[\"player_vy\"].append(player_info[7])\n",
    "            \n",
    "\n",
    "           \n",
    "            \n",
    "\n",
    "\n",
    "if __name__ == \"__main__\":\n",
    "\n",
    "    rcg=open(\"MT-YuShan1.rcg\",\"r\")\n",
    "    player_dict={}\n",
    "    for (count,i) in enumerate(rcg):\n",
    "        if \"show\" in i:\n",
    "           \n",
    "            seg_2_csv(i,\"MT\",\"YuShan\",player_dict)\n",
    "\n",
    "    import  pandas as pd\n",
    "    df=pd.DataFrame(player_dict)\n",
    "    df.to_csv(\"MT_VS_YuShan.csv\",index=False)\n",
    "    print(\"ok\")"
   ]
  },
  {
   "cell_type": "markdown",
   "metadata": {},
   "source": [
    "# 数据整理"
   ]
  },
  {
   "cell_type": "code",
   "execution_count": 15,
   "metadata": {},
   "outputs": [
    {
     "name": "stdout",
     "output_type": "stream",
     "text": [
      "ok\n"
     ]
    }
   ],
   "source": [
    "import pandas  as pd\n",
    "import numpy as np\n",
    "import random\n",
    "\n",
    "\n",
    "data=pd.read_csv(\"MT_VS_YuShan.csv\")\n",
    "\n",
    "\n",
    "\n",
    "ball_x,ball_y,player_x,player_y = data[\"ball_x\"],data[\"ball_y\"],data[\"player_x\"],data[\"player_y\"]\n",
    "\n",
    "ball = [ball_x,ball_y]\n",
    "player = [player_x,player_y]\n",
    "\n",
    "ball_a = np.array(list(zip(ball_x,ball_y)))\n",
    "player_a = np.array(list(zip(player_x,player_y)))\n",
    "#ball_a=np.split(ball,(2,),axis=0)\n",
    "\n",
    "ball_X=[]\n",
    "for i in range(len(ball_a)):\n",
    "    if ball_x[i] < -20:\n",
    "        ball_X.append(-20)\n",
    "    elif ball_x[i] <0:\n",
    "        ball_X.append(0)\n",
    "    elif ball_x[i] <20:\n",
    "        ball_X.append(20)\n",
    "    else:\n",
    "        ball_X.append(36)\n",
    "#print(ball_X)\n",
    "\n",
    "\n",
    "#计算截求周期  我方小 1   否侧 0\n",
    "dist=[]\n",
    "for i in range(0,len(ball_a),22):\n",
    "    min_dist1=1000.0\n",
    "    min_dist2=1000.0\n",
    "     #计算左边球队的最小截求周期 不计算守门员\n",
    "    count=i+1\n",
    "   \n",
    "    for co in range(10):\n",
    "        X=player_a[count][0] - ball_a[count][0]\n",
    "        Y=player_a[count][1] - ball_a[count][1]\n",
    "        dis=(X**2+Y**2)**0.5\n",
    "       # print(dis)\n",
    "        if dis < min_dist1:\n",
    "            min_dist1 = dis\n",
    "        count = count+1\n",
    "    count=count+1\n",
    "    #算右边球队的最小截求周期 不计算守门员\n",
    "    for co in range(10):\n",
    "        X=player_a[count][0] - ball_a[count][0]\n",
    "        Y=player_a[count][1] - ball_a[count][1]\n",
    "        dis=(X**2+Y**2)**0.5\n",
    "        if  dis<min_dist2:\n",
    "            min_dist2 = dis\n",
    "        count = count+1\n",
    "    \n",
    "    if min_dist1 < min_dist2:\n",
    "        for co in range(11):\n",
    "            dist.append(1)\n",
    "        for co in range(11):\n",
    "            dist.append(0)\n",
    "    else:\n",
    "        for co in range(11):\n",
    "            dist.append(0)\n",
    "           \n",
    "        for co in range(11):\n",
    "            dist.append(1)\n",
    "\n",
    "            \n",
    "# 结果\n",
    "'''\n",
    "de=[]\n",
    "#print(type(ball_x),len(dist),dist[0:100])\n",
    "for i in range(len(ball_x)):\n",
    "    de.append(random.randint(0,1))\n",
    "\n",
    "'''\n",
    "\n",
    "    \n",
    "des=[]   \n",
    "for i in range(len(ball_x)):\n",
    "    if dist[i] is 1:\n",
    "        if  ball_X[i] is -20:  \n",
    "            if data[\"ball_vx\"][i] < 0:\n",
    "                des.append(1)\n",
    "            else:des.append(0)\n",
    "        else:des.append(0)\n",
    "    if dist[i] is 0:\n",
    "        if ball_X[i] is 36:\n",
    "            des.append(0)\n",
    "        elif ball_X[i] is 20:\n",
    "            if data[\"ball_vx\"][i] >0:\n",
    "                des.append(0)\n",
    "            else:\n",
    "                des.append(1)\n",
    "        else:\n",
    "            des.append(1)\n",
    "\n",
    "descion_data=np.array(list(zip(ball_X,data[\"ball_vx\"],dist,des)))\n",
    "\n",
    "\n",
    "print('ok')"
   ]
  },
  {
   "cell_type": "markdown",
   "metadata": {},
   "source": [
    "# 尝试"
   ]
  },
  {
   "cell_type": "markdown",
   "metadata": {},
   "source": [
    "## 生成决策树"
   ]
  },
  {
   "cell_type": "code",
   "execution_count": 16,
   "metadata": {},
   "outputs": [
    {
     "data": {
      "text/plain": [
       "DecisionTreeClassifier(ccp_alpha=0.0, class_weight=None, criterion='entropy',\n",
       "                       max_depth=3, max_features=None, max_leaf_nodes=None,\n",
       "                       min_impurity_decrease=0.0, min_impurity_split=None,\n",
       "                       min_samples_leaf=1, min_samples_split=2,\n",
       "                       min_weight_fraction_leaf=0.0, presort='deprecated',\n",
       "                       random_state=None, splitter='best')"
      ]
     },
     "execution_count": 16,
     "metadata": {},
     "output_type": "execute_result"
    }
   ],
   "source": [
    "# 对原始数据进行分为训练数据和测试数据\n",
    "import numpy as np\n",
    "from sklearn import tree\n",
    "from sklearn.model_selection import train_test_split\n",
    "import pydotplus\n",
    "\n",
    "feature_name = 'ball_x','ball_vx','intercept'\n",
    "de_class = 'no','yes'\n",
    "\n",
    "x, y = np.split(descion_data,(3,),axis=1)\n",
    "\n",
    "x_train, x_test, y_train, y_test = train_test_split(x, y, test_size=0.3)\n",
    "\n",
    "clf = tree.DecisionTreeClassifier(max_depth=3,criterion='entropy')#criterion='entropy'\n",
    "#print(clf)\n",
    "#print(len(x_train),x_train,len(y_train),y_train)\n",
    "clf.fit(x_train, y_train)\n"
   ]
  },
  {
   "cell_type": "code",
   "execution_count": 17,
   "metadata": {},
   "outputs": [],
   "source": [
    "dot_data =tree.export_graphviz(\n",
    "        clf,\n",
    "        out_file = None,\n",
    "        feature_names= feature_name,\n",
    "        filled = True,\n",
    "        impurity = False,\n",
    "        rounded = True,\n",
    "        class_names=de_class\n",
    "        #special_characters=True\n",
    "    )"
   ]
  },
  {
   "cell_type": "code",
   "execution_count": 18,
   "metadata": {},
   "outputs": [
    {
     "data": {
      "image/png": "[encoded data removed]",
      "text/plain": [
       "<IPython.core.display.Image object>"
      ]
     },
     "execution_count": 18,
     "metadata": {},
     "output_type": "execute_result"
    }
   ],
   "source": [
    "#pip install pydotplus\n",
    "import pydotplus\n",
    "graph = pydotplus.graph_from_dot_data(dot_data)\n",
    "\n",
    "graph.get_nodes()[2].set_fillcolor(\"#ffffff\")\n",
    "graph.get_nodes()[2].set_fillcolor(\"#ffffff\")\n",
    "graph.get_nodes()[3].set_fillcolor(\"#ffffff\")\n",
    "graph.get_nodes()[4].set_fillcolor(\"#ffffff\")\n",
    "graph.get_nodes()[5].set_fillcolor(\"#ffffff\")\n",
    "graph.get_nodes()[6].set_fillcolor(\"#ffffff\")\n",
    "graph.get_nodes()[7].set_fillcolor(\"#ffffff\")\n",
    "graph.get_nodes()[8].set_fillcolor(\"#ffffff\")\n",
    "\n",
    "graph.write_png('decion_tree_2D.png')\n",
    "\n",
    "from IPython.display import Image\n",
    "Image(graph.create_png())"
   ]
  },
  {
   "cell_type": "code",
   "execution_count": 19,
   "metadata": {},
   "outputs": [
    {
     "name": "stdout",
     "output_type": "stream",
     "text": [
      "ball_x      ball_vx    intercept\n",
      "[0.24761111 0.24713121 0.50525767]\n",
      "[0. 1. 1. ... 0. 0. 1.]\n",
      "[1. 1. 1. ... 1. 0. 1.]\n",
      "0.9567378116587801\n",
      "[0. 0. 0. ... 1. 0. 1.]\n",
      "[0. 0. 0. ... 1. 0. 1.]\n",
      "0.9552815704239214\n"
     ]
    }
   ],
   "source": [
    "# 系数反映每个特征的影响力。越大表示该特征在分类中起到的作用越大\n",
    "print(\"ball_x     \",\"ball_vx   \",\"intercept\")\n",
    "print(clf.feature_importances_)\n",
    "# 使用训练数据预测，预测结果完全正确\n",
    "answer = clf.predict(x_train)\n",
    "y_train = y_train.reshape(-1)\n",
    "\n",
    "print(answer)\n",
    "print(y_train)\n",
    "print(np.mean(answer == y_train))\n",
    "\n",
    "# 对测试数据进行预测，准确度较低，说明过拟合\n",
    "answer = clf.predict(x_test)\n",
    "y_test = y_test.reshape(-1)\n",
    "print(answer)\n",
    "print(y_test)\n",
    "print(np.mean(answer == y_test))"
   ]
  },
  {
   "cell_type": "code",
   "execution_count": 137,
   "metadata": {},
   "outputs": [
    {
     "name": "stdout",
     "output_type": "stream",
     "text": [
      "9 [[2 1 0 0]\n",
      " [3 3 0 1]\n",
      " [1 2 0 1]\n",
      " [3 2 1 1]\n",
      " [1 1 1 1]\n",
      " [3 2 1 0]\n",
      " [1 3 0 0]\n",
      " [2 2 1 1]\n",
      " [3 2 0 0]] 9 [[1]\n",
      " [0]\n",
      " [1]\n",
      " [0]\n",
      " [0]\n",
      " [1]\n",
      " [1]\n",
      " [1]\n",
      " [1]] [[1]\n",
      " [0]\n",
      " [0]\n",
      " [1]\n",
      " [1]\n",
      " [0]\n",
      " [1]\n",
      " [0]\n",
      " [1]\n",
      " [1]\n",
      " [1]\n",
      " [1]\n",
      " [1]\n",
      " [0]]\n",
      "[0.25407758 0.33333333 0.         0.41258908]\n",
      "[1 0 1 0 0 1 1 1 1]\n",
      "[1 0 1 0 0 1 1 1 1]\n",
      "1.0\n",
      "[1 1 1 1 1]\n",
      "[0 1 1 0 1]\n",
      "0.6\n"
     ]
    }
   ],
   "source": [
    "\n",
    "import numpy as np\n",
    "from sklearn import tree\n",
    "from sklearn.model_selection import train_test_split\n",
    "import pydotplus\n",
    "\n",
    "\n",
    "play_feature_E = 'outlook', 'temperature', 'humidity', 'windy'\n",
    "play_class = 'yes', 'no'\n",
    "\n",
    "# 1、读入数据，并将原始数据中的数据转换为数字形式\n",
    "data = np.loadtxt(\"play.txt\", delimiter=\",\", dtype=int)\n",
    "\n",
    "#print(data)\n",
    "\n",
    "\n",
    "x, y = np.split(data,(4,),axis=1)\n",
    "\n",
    "# 2、拆分训练数据与测试数据，为了进行交叉验证\n",
    "# x_train, x_test, y_train, y_test = train_test_split(x, y, test_size=0.3,random_state=2)\n",
    "x_train, x_test, y_train, y_test = train_test_split(x, y, test_size=0.3)\n",
    "\n",
    "# 3、使用信息熵作为划分标准，对决策树进行训练\n",
    "clf = tree.DecisionTreeClassifier(criterion='entropy',)\n",
    "#print(clf)\n",
    "\n",
    "print(len(x_train),x_train,len(y_train),y_train,y)\n",
    "\n",
    "clf.fit(x_train, y_train)\n",
    "\n",
    "# 4、把决策树结构写入文件\n",
    "dot_data = tree.export_graphviz(clf, out_file=None, feature_names=play_feature_E, class_names=play_class,\n",
    "                                filled=True, rounded=True, special_characters=True)\n",
    "graph = pydotplus.graph_from_dot_data(dot_data)\n",
    "graph.write_pdf('play1.pdf')\n",
    "\n",
    "# 系数反映每个特征的影响力。越大表示该特征在分类中起到的作用越大\n",
    "print(clf.feature_importances_)\n",
    "\n",
    "# 5、使用训练数据预测，预测结果完全正确\n",
    "answer = clf.predict(x_train)\n",
    "y_train = y_train.reshape(-1)\n",
    "print(answer)\n",
    "print(y_train)\n",
    "print(np.mean(answer == y_train))\n",
    "\n",
    "# 6、对测试数据进行预测，准确度较低，说明过拟合\n",
    "answer = clf.predict(x_test)\n",
    "y_test = y_test.reshape(-1)\n",
    "print(answer)\n",
    "print(y_test)\n",
    "print(np.mean(answer == y_test))\n",
    "\n"
   ]
  },
  {
   "cell_type": "code",
   "execution_count": null,
   "metadata": {},
   "outputs": [],
   "source": []
  },
  {
   "cell_type": "code",
   "execution_count": null,
   "metadata": {},
   "outputs": [],
   "source": []
  },
  {
   "cell_type": "code",
   "execution_count": 43,
   "metadata": {},
   "outputs": [],
   "source": [
    "# 对原始数据进行分为训练数据和测试数据\n",
    "import numpy as np\n",
    "from sklearn import tree\n",
    "from sklearn.model_selection import train_test_split\n",
    "import pydotplus\n",
    "\n",
    "play_feature_E = 'ball_x', 'ball_vx', 'inpceter'\n",
    "play_class = 'yes', 'no'\n",
    "\n"
   ]
  },
  {
   "cell_type": "code",
   "execution_count": 81,
   "metadata": {},
   "outputs": [
    {
     "name": "stdout",
     "output_type": "stream",
     "text": [
      "0\n",
      "11\n",
      "22\n",
      "33\n",
      "44\n",
      "55\n",
      "66\n",
      "77\n",
      "88\n",
      "99\n"
     ]
    }
   ],
   "source": []
  }
 ],
 "metadata": {
  "kernelspec": {
   "display_name": "Python 3",
   "language": "python",
   "name": "python3"
  },
  "language_info": {
   "codemirror_mode": {
    "name": "ipython",
    "version": 3
   },
   "file_extension": ".py",
   "mimetype": "text/x-python",
   "name": "python",
   "nbconvert_exporter": "python",
   "pygments_lexer": "ipython3",
   "version": "3.6.9"
  }
 },
 "nbformat": 4,
 "nbformat_minor": 4
}
